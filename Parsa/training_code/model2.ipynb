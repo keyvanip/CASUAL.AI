{
 "cells": [
  {
   "cell_type": "code",
   "execution_count": 6,
   "id": "50690bff-e336-46d7-9071-f2f4e12c15d2",
   "metadata": {},
   "outputs": [
    {
     "name": "stdout",
     "output_type": "stream",
     "text": [
      "Current working directory: /home/ec2-user/SageMaker/spring-2025-final-project-project-group-4\n"
     ]
    }
   ],
   "source": [
    "####################### IMPORTING ALL LIBRARIES #############################\n",
    "# Core\n",
    "import os\n",
    "import json\n",
    "import random\n",
    "import itertools\n",
    "\n",
    "# Math & Analysis\n",
    "import numpy as np\n",
    "import matplotlib.pyplot as plt\n",
    "from collections import defaultdict\n",
    "\n",
    "# Image Processing\n",
    "from PIL import Image\n",
    "\n",
    "# PyTorch\n",
    "import torch\n",
    "import torch.nn as nn\n",
    "import torch.nn.functional as F\n",
    "import torch.optim as optim\n",
    "from torch.utils.data import Dataset, DataLoader\n",
    "\n",
    "# Vision\n",
    "import torchvision.models as models\n",
    "import torchvision.transforms as transforms\n",
    "\n",
    "# Machine Learning\n",
    "from sklearn.manifold import TSNE\n",
    "from sklearn.decomposition import PCA\n",
    "from sklearn.metrics.pairwise import cosine_distances\n",
    "\n",
    "# Similarity Search\n",
    "import faiss\n",
    "\n",
    "##########################################################################\n",
    "# Setting working directory\n",
    "os.chdir(\"/home/ec2-user/SageMaker/spring-2025-final-project-project-group-4\")\n",
    "print(\"Current working directory:\", os.getcwd())"
   ]
  },
  {
   "cell_type": "markdown",
   "id": "279b3afd-4c71-402c-8f88-3bb2c3f4cac3",
   "metadata": {},
   "source": [
    "## 1. Dataset Preparation – Outfit Pair Loader\n",
    "### Loads the top-bottom paired embeddings from a JSON file and prepares them as training data for the Siamese Network."
   ]
  },
  {
   "cell_type": "code",
   "execution_count": 7,
   "id": "7e55a8a3-c7a0-4b7c-a33f-1348cce28862",
   "metadata": {},
   "outputs": [],
   "source": [
    "# === Siamese Dataset ===\n",
    "class OutfitPairDataset(Dataset):\n",
    "    def __init__(self, pairs_file):\n",
    "        with open(pairs_file, \"r\") as f:\n",
    "            self.pairs = json.load(f)\n",
    "\n",
    "    def __len__(self):\n",
    "        return len(self.pairs)\n",
    "\n",
    "    def __getitem__(self, idx):\n",
    "        pair = self.pairs[idx]\n",
    "        top = torch.tensor(pair[\"top_embedding\"], dtype=torch.float32)\n",
    "        bottom = torch.tensor(pair[\"bottom_embedding\"], dtype=torch.float32)\n",
    "        label = torch.tensor(pair[\"label\"], dtype=torch.float32)\n",
    "        return top, bottom, label"
   ]
  },
  {
   "cell_type": "markdown",
   "id": "27748e21-4359-45de-9442-11898bcab5d8",
   "metadata": {},
   "source": [
    "## 2. Model Definition – Siamese Network for Style Compatibility\n",
    "### Defines a two-branch Siamese neural network for learning a joint embedding space for outfit items."
   ]
  },
  {
   "cell_type": "code",
   "execution_count": 8,
   "id": "49166d6e-cbae-4e0c-9532-3e7e232d2f8b",
   "metadata": {},
   "outputs": [],
   "source": [
    "# === Siamese Network ===\n",
    "class SiameseNetwork(nn.Module):\n",
    "    def __init__(self, input_dim=512, embedding_dim=128):\n",
    "        super(SiameseNetwork, self).__init__()\n",
    "        self.fc = nn.Sequential(\n",
    "            nn.Linear(input_dim, 256),\n",
    "            nn.ReLU(),\n",
    "            nn.Linear(256, embedding_dim)\n",
    "        )\n",
    "\n",
    "    def forward_once(self, x):\n",
    "        return self.fc(x)\n",
    "\n",
    "    def forward(self, input1, input2):\n",
    "        output1 = self.forward_once(input1)\n",
    "        output2 = self.forward_once(input2)\n",
    "        return output1, output2"
   ]
  },
  {
   "cell_type": "markdown",
   "id": "9238f751-648f-4993-9021-edd4102dfd30",
   "metadata": {},
   "source": [
    "## 3. Loss Function – Contrastive Loss for Similarity Learning\n",
    "### Uses contrastive loss to minimize distance between compatible pairs and maximize it for incompatible ones."
   ]
  },
  {
   "cell_type": "code",
   "execution_count": 9,
   "id": "7ee31680-ef96-49dd-92d5-13d926cff961",
   "metadata": {},
   "outputs": [],
   "source": [
    "# === Contrastive Loss ===\n",
    "class ContrastiveLoss(nn.Module):\n",
    "    def __init__(self, margin=1.0):\n",
    "        super(ContrastiveLoss, self).__init__()\n",
    "        self.margin = margin\n",
    "\n",
    "    def forward(self, output1, output2, label):\n",
    "        euclidean_distance = F.pairwise_distance(output1, output2)\n",
    "        loss = torch.mean((1 - label) * torch.pow(euclidean_distance, 2) +\n",
    "                          label * torch.pow(torch.clamp(self.margin - euclidean_distance, min=0.0), 2))\n",
    "        return loss"
   ]
  },
  {
   "cell_type": "markdown",
   "id": "417d2e7c-6901-43cb-a9e9-d40e54493407",
   "metadata": {},
   "source": [
    "## 4. Data Loading & Model Initialization & Training\n",
    "### Loads the training pairs and prepares them for batching. \n",
    "### Initializes the Siamese model, loss function, and optimizer.\n",
    "### Trains the model for a fixed number of epochs using contrastive loss."
   ]
  },
  {
   "cell_type": "code",
   "execution_count": 10,
   "id": "da900630-8d11-45d1-b65e-71b5a2e8aa28",
   "metadata": {},
   "outputs": [
    {
     "name": "stdout",
     "output_type": "stream",
     "text": [
      "Epoch [1/50], Loss: 0.5461\n",
      "Epoch [2/50], Loss: 0.2133\n",
      "Epoch [3/50], Loss: 0.1991\n",
      "Epoch [4/50], Loss: 0.1983\n",
      "Epoch [5/50], Loss: 0.1910\n",
      "Epoch [6/50], Loss: 0.1834\n",
      "Epoch [7/50], Loss: 0.1875\n",
      "Epoch [8/50], Loss: 0.1825\n",
      "Epoch [9/50], Loss: 0.1786\n",
      "Epoch [10/50], Loss: 0.1766\n",
      "Epoch [11/50], Loss: 0.1726\n",
      "Epoch [12/50], Loss: 0.1764\n",
      "Epoch [13/50], Loss: 0.1681\n",
      "Epoch [14/50], Loss: 0.1698\n",
      "Epoch [15/50], Loss: 0.1695\n",
      "Epoch [16/50], Loss: 0.1728\n",
      "Epoch [17/50], Loss: 0.1654\n",
      "Epoch [18/50], Loss: 0.1667\n",
      "Epoch [19/50], Loss: 0.1603\n",
      "Epoch [20/50], Loss: 0.1652\n",
      "Epoch [21/50], Loss: 0.1711\n",
      "Epoch [22/50], Loss: 0.1631\n",
      "Epoch [23/50], Loss: 0.1596\n",
      "Epoch [24/50], Loss: 0.1654\n",
      "Epoch [25/50], Loss: 0.1599\n",
      "Epoch [26/50], Loss: 0.1614\n",
      "Epoch [27/50], Loss: 0.1578\n",
      "Epoch [28/50], Loss: 0.1681\n",
      "Epoch [29/50], Loss: 0.1567\n",
      "Epoch [30/50], Loss: 0.1591\n",
      "Epoch [31/50], Loss: 0.1583\n",
      "Epoch [32/50], Loss: 0.1568\n",
      "Epoch [33/50], Loss: 0.1549\n",
      "Epoch [34/50], Loss: 0.1562\n",
      "Epoch [35/50], Loss: 0.1570\n",
      "Epoch [36/50], Loss: 0.1579\n",
      "Epoch [37/50], Loss: 0.1590\n",
      "Epoch [38/50], Loss: 0.1563\n",
      "Epoch [39/50], Loss: 0.1526\n",
      "Epoch [40/50], Loss: 0.1556\n",
      "Epoch [41/50], Loss: 0.1535\n",
      "Epoch [42/50], Loss: 0.1512\n",
      "Epoch [43/50], Loss: 0.1517\n",
      "Epoch [44/50], Loss: 0.1554\n",
      "Epoch [45/50], Loss: 0.1525\n",
      "Epoch [46/50], Loss: 0.1523\n",
      "Epoch [47/50], Loss: 0.1507\n",
      "Epoch [48/50], Loss: 0.1508\n",
      "Epoch [49/50], Loss: 0.1549\n",
      "Epoch [50/50], Loss: 0.1524\n",
      "✅ Siamese model saved as Parsa/checkpoint/siamese_model.pth\n"
     ]
    }
   ],
   "source": [
    "# === Load Data ===\n",
    "dataset = OutfitPairDataset(\"Parsa/checkpoint/training_pairs.json\")\n",
    "dataloader = DataLoader(dataset, batch_size=64, shuffle=True)\n",
    "\n",
    "# === Model, Loss, Optimizer ===\n",
    "device = torch.device(\"cuda\" if torch.cuda.is_available() else \"cpu\")\n",
    "model = SiameseNetwork().to(device)\n",
    "criterion = ContrastiveLoss()\n",
    "optimizer = optim.Adam(model.parameters(), lr=0.001)\n",
    "\n",
    "# === Training Loop ===\n",
    "epochs = 50\n",
    "for epoch in range(epochs):\n",
    "    model.train()\n",
    "    total_loss = 0.0\n",
    "    for top, bottom, label in dataloader:\n",
    "        top, bottom, label = top.to(device), bottom.to(device), label.to(device)\n",
    "        optimizer.zero_grad()\n",
    "        output1, output2 = model(top, bottom)\n",
    "        loss = criterion(output1, output2, label)\n",
    "        loss.backward()\n",
    "        optimizer.step()\n",
    "        total_loss += loss.item()\n",
    "\n",
    "    avg_loss = total_loss / len(dataloader)\n",
    "    print(f\"Epoch [{epoch+1}/{epochs}], Loss: {avg_loss:.4f}\")\n",
    "\n",
    "# === Save model ===\n",
    "torch.save(model.state_dict(), \"Parsa/checkpoint/siamese_model.pth\")\n",
    "print(\"✅ Siamese model saved as Parsa/checkpoint/siamese_model.pth\")\n"
   ]
  },
  {
   "cell_type": "code",
   "execution_count": null,
   "id": "955960e3-35e4-442b-bf44-41eee6b1d6aa",
   "metadata": {},
   "outputs": [],
   "source": []
  }
 ],
 "metadata": {
  "kernelspec": {
   "display_name": "conda_python3",
   "language": "python",
   "name": "conda_python3"
  },
  "language_info": {
   "codemirror_mode": {
    "name": "ipython",
    "version": 3
   },
   "file_extension": ".py",
   "mimetype": "text/x-python",
   "name": "python",
   "nbconvert_exporter": "python",
   "pygments_lexer": "ipython3",
   "version": "3.10.16"
  }
 },
 "nbformat": 4,
 "nbformat_minor": 5
}
