{
 "cells": [
  {
   "cell_type": "code",
   "execution_count": 10,
   "id": "3f468507-433a-4760-9689-24928c30452b",
   "metadata": {},
   "outputs": [
    {
     "name": "stdout",
     "output_type": "stream",
     "text": [
      "Current working directory: /home/ec2-user/SageMaker/spring-2025-final-project-project-group-4\n"
     ]
    }
   ],
   "source": [
    "####################### IMPORTING ALL LIBRARIES #############################\n",
    "# Core\n",
    "import os\n",
    "import json\n",
    "import random\n",
    "import itertools\n",
    "\n",
    "# Math & Analysis\n",
    "import numpy as np\n",
    "import matplotlib.pyplot as plt\n",
    "from collections import defaultdict\n",
    "\n",
    "# Image Processing\n",
    "from PIL import Image\n",
    "\n",
    "# PyTorch\n",
    "import torch\n",
    "import torch.nn as nn\n",
    "import torch.nn.functional as F\n",
    "import torch.optim as optim\n",
    "from torch.utils.data import Dataset, DataLoader\n",
    "\n",
    "# Vision\n",
    "import torchvision.models as models\n",
    "import torchvision.transforms as transforms\n",
    "\n",
    "# Machine Learning\n",
    "from sklearn.manifold import TSNE\n",
    "from sklearn.decomposition import PCA\n",
    "from sklearn.metrics.pairwise import cosine_distances\n",
    "\n",
    "# Similarity Search\n",
    "import faiss\n",
    "\n",
    "##########################################################################\n",
    "# Setting working directory\n",
    "os.chdir(\"/home/ec2-user/SageMaker/spring-2025-final-project-project-group-4\")\n",
    "print(\"Current working directory:\", os.getcwd())"
   ]
  },
  {
   "cell_type": "markdown",
   "id": "e9f8a3bb-2f9c-4af4-8096-f655dd73cbb1",
   "metadata": {},
   "source": [
    "## 1. Load Metadata and Embeddings\n",
    "### loads our pre-labeled metadata and the pre-computed image embeddings."
   ]
  },
  {
   "cell_type": "code",
   "execution_count": 11,
   "id": "91f2c44e-17c2-498f-9094-20c9e95b67da",
   "metadata": {},
   "outputs": [],
   "source": [
    "# === Load metadata and embeddings ===\n",
    "with open(\"metadata.json\", \"r\") as f:\n",
    "    metadata = json.load(f)\n",
    "\n",
    "with open(\"Parsa/checkpoint/clothing_embeddings.json\", \"r\") as f:\n",
    "    embeddings = json.load(f)"
   ]
  },
  {
   "cell_type": "markdown",
   "id": "d730c0c0-4880-4216-803f-6731c90a9d9d",
   "metadata": {},
   "source": [
    "## 2. Define Outfit Categories and Color Harmony Rules\n",
    "### Categorizes clothing types into tops and bottoms, and defines acceptable color pairings for harmony."
   ]
  },
  {
   "cell_type": "code",
   "execution_count": 12,
   "id": "f4966c39-b14d-413a-9423-0f70a15b508e",
   "metadata": {},
   "outputs": [],
   "source": [
    "# === Define tops and bottoms categories ===\n",
    "top_categories = {\"shirts\", \"t-shirts\"}\n",
    "bottom_categories = {\"pants\", \"shorts\"}\n",
    "\n",
    "# === Color harmony dictionary ===\n",
    "fashion_color_pairs = {\n",
    "    \"black\": [\"white\", \"gray\", \"red\", \"beige\", \"camel\", \"denim\", \"gold\", \"silver\"],\n",
    "    \"white\": [\"black\", \"navy\", \"beige\", \"gray\", \"pastel\", \"denim\", \"brown\"],\n",
    "    \"gray\": [\"black\", \"white\", \"red\", \"blue\", \"pink\", \"burgundy\", \"camel\"],\n",
    "    \"beige\": [\"white\", \"black\", \"brown\", \"green\", \"burgundy\", \"navy\", \"gray\"],\n",
    "    \"navy\": [\"white\", \"gray\", \"camel\", \"red\", \"beige\", \"pink\", \"brown\"],\n",
    "    \"brown\": [\"beige\", \"white\", \"blue\", \"orange\", \"green\", \"mustard\", \"tan\"],\n",
    "    \"camel\": [\"black\", \"white\", \"navy\", \"burgundy\", \"olive\", \"gray\"],\n",
    "    \"tan\": [\"white\", \"black\", \"navy\", \"green\", \"burgundy\", \"brown\"],\n",
    "    \"red\": [\"black\", \"white\", \"gray\", \"denim\", \"tan\", \"camel\", \"gold\"],\n",
    "    \"burgundy\": [\"white\", \"beige\", \"black\", \"camel\", \"gray\", \"navy\"],\n",
    "    \"pink\": [\"white\", \"gray\", \"beige\", \"denim\", \"navy\", \"brown\"],\n",
    "    \"blue\": [\"white\", \"gray\", \"tan\", \"brown\", \"camel\", \"beige\"],\n",
    "    \"denim\": [\"white\", \"black\", \"gray\", \"red\", \"camel\", \"beige\"],\n",
    "    \"green\": [\"white\", \"black\", \"beige\", \"brown\", \"tan\", \"mustard\", \"denim\"],\n",
    "    \"olive\": [\"white\", \"black\", \"tan\", \"camel\", \"denim\", \"beige\"],\n",
    "    \"mustard\": [\"white\", \"brown\", \"olive\", \"denim\", \"camel\"],\n",
    "    \"orange\": [\"white\", \"blue\", \"brown\", \"camel\", \"olive\"],\n",
    "    \"purple\": [\"gray\", \"white\", \"navy\", \"black\"],\n",
    "    \"pastel\": [\"white\", \"gray\", \"denim\", \"beige\", \"camel\"],\n",
    "    \"gold\": [\"black\", \"white\", \"burgundy\", \"navy\"],\n",
    "    \"silver\": [\"black\", \"white\", \"gray\", \"navy\"]\n",
    "}\n"
   ]
  },
  {
   "cell_type": "markdown",
   "id": "8ca8efd6-c9f2-428a-892f-8905ee086ad2",
   "metadata": {},
   "source": [
    "## 3. Compatibility Check Functions\n",
    "### Defines functions to check style and color compatibility for outfit pairing."
   ]
  },
  {
   "cell_type": "code",
   "execution_count": 5,
   "id": "c3c0fecc-abd0-4eb3-939f-10298cdc5c60",
   "metadata": {},
   "outputs": [],
   "source": [
    "# === Utility functions ===\n",
    "def is_style_compatible(styles1, styles2):\n",
    "    return bool(set(styles1).intersection(set(styles2)))\n",
    "\n",
    "def is_color_harmonious(color1, color2):\n",
    "    return color2 in fashion_color_pairs.get(color1, [])"
   ]
  },
  {
   "cell_type": "markdown",
   "id": "a2fb4689-7a38-444f-bc08-52064b479fd9",
   "metadata": {},
   "source": [
    "## 4. Organize Tops and Bottoms\n",
    "### Splits the clothing items into top and bottom groups based on metadata."
   ]
  },
  {
   "cell_type": "code",
   "execution_count": 6,
   "id": "04b926b2-7dde-46c3-ac37-7c14df8cf49d",
   "metadata": {},
   "outputs": [],
   "source": [
    "tops, bottoms = [], []\n",
    "\n",
    "for category, items in metadata.items():\n",
    "    for item in items:\n",
    "        filename = item[\"filename\"]\n",
    "        path = f\"Parsa/clothes/{category}/{filename}\"\n",
    "        if path not in embeddings:\n",
    "            continue\n",
    "        entry = {\n",
    "            \"path\": path,\n",
    "            \"embedding\": embeddings[path],\n",
    "            \"style\": item.get(\"style\", []),\n",
    "            \"color\": item.get(\"color\", [])[0] if isinstance(item.get(\"color\"), list) else item.get(\"color\", \"\")\n",
    "        }\n",
    "        if category in top_categories:\n",
    "            tops.append(entry)\n",
    "        elif category in bottom_categories:\n",
    "            bottoms.append(entry)"
   ]
  },
  {
   "cell_type": "markdown",
   "id": "737e1fc0-043f-46b9-922f-e55acde551f5",
   "metadata": {},
   "source": [
    "## 5. Generate Training Pairs\n",
    "### Pairs compatible (positive) and incompatible (negative) outfits using the embedding, style, and color info"
   ]
  },
  {
   "cell_type": "code",
   "execution_count": 7,
   "id": "fccbe898-7e30-4898-aaea-27452e29d7bb",
   "metadata": {},
   "outputs": [
    {
     "name": "stdout",
     "output_type": "stream",
     "text": [
      "✅ Saved 1193 positive and 1193 negative pairs to Parsa/checkpoint/training_pairs.json\n"
     ]
    }
   ],
   "source": [
    "positive_pairs, negative_pairs = [], []\n",
    "\n",
    "for top in tops:\n",
    "    for bottom in bottoms:\n",
    "        same_style = is_style_compatible(top[\"style\"], bottom[\"style\"])\n",
    "        harmonious_color = is_color_harmonious(top[\"color\"], bottom[\"color\"])\n",
    "        label = 1 if same_style and harmonious_color else 0\n",
    "\n",
    "        pair = {\n",
    "            \"top_embedding\": top[\"embedding\"],\n",
    "            \"bottom_embedding\": bottom[\"embedding\"],\n",
    "            \"label\": label\n",
    "        }\n",
    "\n",
    "        if label == 1:\n",
    "            positive_pairs.append(pair)\n",
    "        else:\n",
    "            negative_pairs.append(pair)\n",
    "\n",
    "random.shuffle(negative_pairs)\n",
    "negative_pairs = negative_pairs[:len(positive_pairs)]  # balance\n",
    "\n",
    "pairs = positive_pairs + negative_pairs\n",
    "random.shuffle(pairs)\n",
    "\n",
    "with open(\"Parsa/checkpoint/training_pairs.json\", \"w\") as f:\n",
    "    json.dump(pairs, f)\n",
    "\n",
    "print(f\"✅ Saved {len(positive_pairs)} positive and {len(negative_pairs)} negative pairs to Parsa/checkpoint/training_pairs.json\")"
   ]
  },
  {
   "cell_type": "markdown",
   "id": "a77cc7f5-cd01-44a4-97a7-19b14719201e",
   "metadata": {},
   "source": [
    "## 6. Sanity Check – Sample Pair Preview\n",
    "### Shows a few generated pairs with partial embedding previews to confirm format is correct."
   ]
  },
  {
   "cell_type": "code",
   "execution_count": 8,
   "id": "2c2e5c79-565f-49e0-935c-41038145ab40",
   "metadata": {
    "scrolled": true
   },
   "outputs": [
    {
     "name": "stdout",
     "output_type": "stream",
     "text": [
      "\n",
      "Label: 1\n",
      "Top path (partial): [1.5378458499908447, 1.5747472047805786, 0.3615378439426422, 0.18449342250823975, 0.018867067992687225]\n",
      "Bottom path (partial): [0.3086162805557251, 0.007389220874756575, 0.0694318488240242, 0.7044539451599121, 0.13697466254234314]\n",
      "\n",
      "Label: 1\n",
      "Top path (partial): [2.0682568550109863, 1.937971830368042, 0.32155701518058777, 0.28209683299064636, 0.011589804664254189]\n",
      "Bottom path (partial): [0.4600033760070801, 0.032074104994535446, 0.06877424567937851, 1.002170205116272, 0.040428489446640015]\n",
      "\n",
      "Label: 1\n",
      "Top path (partial): [2.03474760055542, 2.2361249923706055, 0.10728473961353302, 0.20168417692184448, 0.011874226853251457]\n",
      "Bottom path (partial): [0.6128318905830383, 0.04115550220012665, 0.23760464787483215, 1.2158700227737427, 0.06490008533000946]\n",
      "\n",
      "Label: 1\n",
      "Top path (partial): [1.9874252080917358, 1.3292760848999023, 0.6204907298088074, 0.4153148829936981, 0.0886683240532875]\n",
      "Bottom path (partial): [0.07905063033103943, 0.018887965008616447, 0.14997614920139313, 0.7610018849372864, 0.36479923129081726]\n",
      "\n",
      "Label: 0\n",
      "Top path (partial): [1.4059830904006958, 1.437736988067627, 0.5770384669303894, 0.3656980097293854, 0.05020224675536156]\n",
      "Bottom path (partial): [1.3753154277801514, 0.08468136191368103, 1.9770333766937256, 2.5367984771728516, 0.015000131912529469]\n"
     ]
    }
   ],
   "source": [
    "with open(\"Parsa/checkpoint/training_pairs.json\", \"r\") as f:\n",
    "    pairs = json.load(f)\n",
    "\n",
    "for pair in pairs[:5]:\n",
    "    print(f\"\\nLabel: {pair['label']}\")\n",
    "    print(\"Top path (partial):\", pair['top_embedding'][:5])\n",
    "    print(\"Bottom path (partial):\", pair['bottom_embedding'][:5])"
   ]
  },
  {
   "cell_type": "markdown",
   "id": "7eed46bd-441a-4c06-b0e6-5a7423c3534a",
   "metadata": {},
   "source": [
    "## 7. Sanity Check with Metadata Matching\n",
    "### Matches embeddings back to file paths and displays whether style/color match and label agree."
   ]
  },
  {
   "cell_type": "code",
   "execution_count": 9,
   "id": "4e63752b-6b0a-4bb8-9f8f-06423f9f1202",
   "metadata": {},
   "outputs": [
    {
     "name": "stdout",
     "output_type": "stream",
     "text": [
      "🔍 Sanity Check on Training Pairs\n",
      "\n",
      "Pair 1\n",
      "  👕 Top:    Parsa/clothes/t-shirts/16_t-shirts.jpg\n",
      "  👖 Bottom: Parsa/clothes/pants/02_pants.jpg\n",
      "  🎨 Color Match? True\n",
      "  🧵 Style Match? True\n",
      "  ✅ Label: 1\n",
      "--------------------------------------------------\n",
      "Pair 2\n",
      "  👕 Top:    Parsa/clothes/t-shirts/30_t-shirts.jpg\n",
      "  👖 Bottom: Parsa/clothes/pants/12_pants.jpg\n",
      "  🎨 Color Match? True\n",
      "  🧵 Style Match? True\n",
      "  ✅ Label: 1\n",
      "--------------------------------------------------\n",
      "Pair 3\n",
      "  👕 Top:    Parsa/clothes/t-shirts/14_t-shirts.jpg\n",
      "  👖 Bottom: Parsa/clothes/pants/13_pants.jpg\n",
      "  🎨 Color Match? True\n",
      "  🧵 Style Match? True\n",
      "  ✅ Label: 1\n",
      "--------------------------------------------------\n",
      "Pair 4\n",
      "  👕 Top:    Parsa/clothes/t-shirts/08_t-shirts.jpg\n",
      "  👖 Bottom: Parsa/clothes/pants/22_pants.jpg\n",
      "  🎨 Color Match? True\n",
      "  🧵 Style Match? True\n",
      "  ✅ Label: 1\n",
      "--------------------------------------------------\n",
      "Pair 5\n",
      "  👕 Top:    Parsa/clothes/t-shirts/24_t-shirts.jpg\n",
      "  👖 Bottom: Parsa/clothes/shorts/34_shorts.jpg\n",
      "  🎨 Color Match? False\n",
      "  🧵 Style Match? False\n",
      "  ✅ Label: 0\n",
      "--------------------------------------------------\n",
      "Pair 6\n",
      "  👕 Top:    Parsa/clothes/shirts/03_shirts.jpg\n",
      "  👖 Bottom: Parsa/clothes/shorts/34_shorts.jpg\n",
      "  🎨 Color Match? True\n",
      "  🧵 Style Match? False\n",
      "  ✅ Label: 0\n",
      "--------------------------------------------------\n",
      "Pair 7\n",
      "  👕 Top:    Parsa/clothes/t-shirts/07_t-shirts.jpg\n",
      "  👖 Bottom: Parsa/clothes/shorts/32_shorts.jpg\n",
      "  🎨 Color Match? True\n",
      "  🧵 Style Match? True\n",
      "  ✅ Label: 1\n",
      "--------------------------------------------------\n",
      "Pair 8\n",
      "  👕 Top:    Parsa/clothes/shirts/39_shirts.jpg\n",
      "  👖 Bottom: Parsa/clothes/shorts/27_shorts.jpg\n",
      "  🎨 Color Match? False\n",
      "  🧵 Style Match? True\n",
      "  ✅ Label: 0\n",
      "--------------------------------------------------\n",
      "Pair 9\n",
      "  👕 Top:    Parsa/clothes/t-shirts/34_t-shirts.jpg\n",
      "  👖 Bottom: Parsa/clothes/shorts/39_shorts.jpg\n",
      "  🎨 Color Match? True\n",
      "  🧵 Style Match? True\n",
      "  ✅ Label: 1\n",
      "--------------------------------------------------\n",
      "Pair 10\n",
      "  👕 Top:    Parsa/clothes/t-shirts/23_t-shirts.jpg\n",
      "  👖 Bottom: Parsa/clothes/pants/06_pants.jpg\n",
      "  🎨 Color Match? True\n",
      "  🧵 Style Match? True\n",
      "  ✅ Label: 1\n",
      "--------------------------------------------------\n"
     ]
    }
   ],
   "source": [
    "# Build path -> metadata lookup\n",
    "metadata_lookup = {}\n",
    "for category, items in metadata.items():\n",
    "    for item in items:\n",
    "        filename = item[\"filename\"]\n",
    "        path = f\"Parsa/clothes/{category}/{filename}\"\n",
    "        metadata_lookup[path] = {\n",
    "            \"style\": item.get(\"style\", []),\n",
    "            \"color\": item.get(\"color\", [])[0] if isinstance(item.get(\"color\"), list) else item.get(\"color\", \"\")\n",
    "        }\n",
    "\n",
    "print(\"🔍 Sanity Check on Training Pairs\\n\")\n",
    "for i, pair in enumerate(pairs[:10]):\n",
    "    top_emb = pair[\"top_embedding\"]\n",
    "    bottom_emb = pair[\"bottom_embedding\"]\n",
    "    label = pair[\"label\"]\n",
    "\n",
    "    top_path = next((k for k, v in embeddings.items() if v[:5] == top_emb[:5]), \"Unknown\")\n",
    "    bottom_path = next((k for k, v in embeddings.items() if v[:5] == bottom_emb[:5]), \"Unknown\")\n",
    "\n",
    "    top_meta = metadata_lookup.get(top_path, {})\n",
    "    bottom_meta = metadata_lookup.get(bottom_path, {})\n",
    "\n",
    "    style_match = is_style_compatible(top_meta.get(\"style\", []), bottom_meta.get(\"style\", []))\n",
    "    color_match = is_color_harmonious(top_meta.get(\"color\", \"\"), bottom_meta.get(\"color\", \"\"))\n",
    "\n",
    "    print(f\"Pair {i+1}\")\n",
    "    print(f\"  👕 Top:    {top_path}\")\n",
    "    print(f\"  👖 Bottom: {bottom_path}\")\n",
    "    print(f\"  🎨 Color Match? {color_match}\")\n",
    "    print(f\"  🧵 Style Match? {style_match}\")\n",
    "    print(f\"  ✅ Label: {label}\")\n",
    "    print(\"-\" * 50)"
   ]
  },
  {
   "cell_type": "code",
   "execution_count": null,
   "id": "ea2393c1-6f09-4f29-92da-ad37cdd0e0a7",
   "metadata": {},
   "outputs": [],
   "source": []
  }
 ],
 "metadata": {
  "kernelspec": {
   "display_name": "conda_python3",
   "language": "python",
   "name": "conda_python3"
  },
  "language_info": {
   "codemirror_mode": {
    "name": "ipython",
    "version": 3
   },
   "file_extension": ".py",
   "mimetype": "text/x-python",
   "name": "python",
   "nbconvert_exporter": "python",
   "pygments_lexer": "ipython3",
   "version": "3.10.16"
  }
 },
 "nbformat": 4,
 "nbformat_minor": 5
}
