{
 "cells": [
  {
   "cell_type": "code",
   "execution_count": 1,
   "id": "cb993555-7849-4ac3-a92f-f6472a24b12d",
   "metadata": {},
   "outputs": [],
   "source": [
    "fashion_color_pairs = {\n",
    "    \"black\": [\"white\", \"gray\", \"red\", \"beige\", \"camel\", \"denim\", \"gold\", \"silver\"],\n",
    "    \"white\": [\"black\", \"navy\", \"beige\", \"gray\", \"pastel\", \"denim\", \"brown\"],\n",
    "    \"gray\": [\"black\", \"white\", \"red\", \"blue\", \"pink\", \"burgundy\", \"camel\"],\n",
    "    \"beige\": [\"white\", \"black\", \"brown\", \"green\", \"burgundy\", \"navy\", \"gray\"],\n",
    "    \"navy\": [\"white\", \"gray\", \"camel\", \"red\", \"beige\", \"pink\", \"brown\"],\n",
    "    \"brown\": [\"beige\", \"white\", \"blue\", \"orange\", \"green\", \"mustard\", \"tan\"],\n",
    "    \"camel\": [\"black\", \"white\", \"navy\", \"burgundy\", \"olive\", \"gray\"],\n",
    "    \"tan\": [\"white\", \"black\", \"navy\", \"green\", \"burgundy\", \"brown\"],\n",
    "    \"red\": [\"black\", \"white\", \"gray\", \"denim\", \"tan\", \"camel\", \"gold\"],\n",
    "    \"burgundy\": [\"white\", \"beige\", \"black\", \"camel\", \"gray\", \"navy\"],\n",
    "    \"pink\": [\"white\", \"gray\", \"beige\", \"denim\", \"navy\", \"brown\"],\n",
    "    \"blue\": [\"white\", \"gray\", \"tan\", \"brown\", \"camel\", \"beige\"],\n",
    "    \"denim\": [\"white\", \"black\", \"gray\", \"red\", \"camel\", \"beige\"],\n",
    "    \"green\": [\"white\", \"black\", \"beige\", \"brown\", \"tan\", \"mustard\", \"denim\"],\n",
    "    \"olive\": [\"white\", \"black\", \"tan\", \"camel\", \"denim\", \"beige\"],\n",
    "    \"mustard\": [\"white\", \"brown\", \"olive\", \"denim\", \"camel\"],\n",
    "    \"orange\": [\"white\", \"blue\", \"brown\", \"camel\", \"olive\"],\n",
    "    \"purple\": [\"gray\", \"white\", \"navy\", \"black\"],\n",
    "    \"pastel\": [\"white\", \"gray\", \"denim\", \"beige\", \"camel\"],\n",
    "    \"gold\": [\"black\", \"white\", \"burgundy\", \"navy\"],\n",
    "    \"silver\": [\"black\", \"white\", \"gray\", \"navy\"]\n",
    "}"
   ]
  },
  {
   "cell_type": "code",
   "execution_count": 2,
   "id": "a6b51197-478c-4e0a-9b00-964948bc3e62",
   "metadata": {},
   "outputs": [
    {
     "name": "stdout",
     "output_type": "stream",
     "text": [
      "Stylish match!\n"
     ]
    }
   ],
   "source": [
    "top_color = \"white\"\n",
    "bottom_color = \"navy\"\n",
    "\n",
    "if bottom_color in fashion_color_pairs.get(top_color, []):\n",
    "    print(\"Stylish match!\")\n",
    "else:\n",
    "    print(\"Not ideal.\")"
   ]
  }
 ],
 "metadata": {
  "kernelspec": {
   "display_name": "conda_python3",
   "language": "python",
   "name": "conda_python3"
  },
  "language_info": {
   "codemirror_mode": {
    "name": "ipython",
    "version": 3
   },
   "file_extension": ".py",
   "mimetype": "text/x-python",
   "name": "python",
   "nbconvert_exporter": "python",
   "pygments_lexer": "ipython3",
   "version": "3.10.16"
  }
 },
 "nbformat": 4,
 "nbformat_minor": 5
}
