{
 "cells": [
  {
   "cell_type": "code",
   "execution_count": 13,
   "id": "f07b81f6-f76d-447d-9ffd-091a58cfb5c6",
   "metadata": {},
   "outputs": [
    {
     "name": "stdout",
     "output_type": "stream",
     "text": [
      "Current working directory: /home/ec2-user/SageMaker/spring-2025-final-project-project-group-4\n"
     ]
    }
   ],
   "source": [
    "####################### IMPORTING ALL LIBRARIES #############################\n",
    "# Core\n",
    "import os\n",
    "import json\n",
    "import random\n",
    "import itertools\n",
    "\n",
    "# Math & Analysis\n",
    "import numpy as np\n",
    "import matplotlib.pyplot as plt\n",
    "from collections import defaultdict\n",
    "\n",
    "# Image Processing\n",
    "from PIL import Image, ImageFile\n",
    "\n",
    "# PyTorch\n",
    "import torch\n",
    "import torch.nn as nn\n",
    "import torch.nn.functional as F\n",
    "import torch.optim as optim\n",
    "from torch.utils.data import Dataset, DataLoader\n",
    "\n",
    "# Vision\n",
    "import torchvision.models as models\n",
    "import torchvision.transforms as transforms\n",
    "\n",
    "# Machine Learning\n",
    "from sklearn.manifold import TSNE\n",
    "from sklearn.decomposition import PCA\n",
    "from sklearn.metrics.pairwise import cosine_distances\n",
    "\n",
    "# Similarity Search\n",
    "import faiss\n",
    "\n",
    "##########################################################################\n",
    "# Setting working directory\n",
    "os.chdir(\"/home/ec2-user/SageMaker/spring-2025-final-project-project-group-4\")\n",
    "print(\"Current working directory:\", os.getcwd())"
   ]
  },
  {
   "cell_type": "code",
   "execution_count": 15,
   "id": "35508246-1c6d-4aca-94b5-6b5d04e1e2a8",
   "metadata": {},
   "outputs": [
    {
     "name": "stdout",
     "output_type": "stream",
     "text": [
      "✅ Converted: IMG_9420.png → 01_pants.jpg\n",
      "✅ Converted: IMG_9422.png → 02_pants.jpg\n",
      "✅ Converted: IMG_9423.png → 03_pants.jpg\n",
      "✅ Converted: IMG_9424.png → 04_pants.jpg\n",
      "✅ Converted: IMG_9426.png → 05_pants.jpg\n",
      "✅ Converted: IMG_9427.png → 06_pants.jpg\n",
      "✅ Converted: IMG_9429.png → 07_pants.jpg\n",
      "✅ Converted: IMG_9430.png → 08_pants.jpg\n",
      "✅ Converted: IMG_9431.png → 09_pants.jpg\n",
      "✅ Converted: IMG_9432.png → 10_pants.jpg\n",
      "✅ Converted: IMG_9433.png → 11_pants.jpg\n",
      "✅ Converted: IMG_9434.png → 12_pants.jpg\n",
      "✅ Converted: IMG_9436.png → 13_pants.jpg\n",
      "✅ Converted: IMG_9437.png → 14_pants.jpg\n",
      "✅ Converted: IMG_9438.png → 15_pants.jpg\n",
      "✅ Converted: IMG_9439.png → 16_pants.jpg\n",
      "✅ Converted: IMG_9440.png → 17_pants.jpg\n",
      "✅ Converted: IMG_9493.png → 18_pants.jpg\n",
      "🎉 PNG-to-JPG conversion and renaming complete.\n"
     ]
    }
   ],
   "source": [
    "# Allow Pillow to load truncated (corrupted/incomplete) PNGs\n",
    "ImageFile.LOAD_TRUNCATED_IMAGES = True\n",
    "\n",
    "# Folder containing PNG files\n",
    "folder_path = \"Parsa/parsa's_wardrobe/pants\"\n",
    "\n",
    "# Get sorted list of .png files\n",
    "png_files = sorted([f for f in os.listdir(folder_path) if f.lower().endswith(\".png\")])\n",
    "\n",
    "# Loop through and rename + convert\n",
    "for idx, png_file in enumerate(png_files, start=1):\n",
    "    new_filename = f\"{idx:02d}_pants.jpg\"\n",
    "    png_path = os.path.join(folder_path, png_file)\n",
    "    jpg_path = os.path.join(folder_path, new_filename)\n",
    "\n",
    "    try:\n",
    "        image = Image.open(png_path).convert(\"RGB\")\n",
    "        image.save(jpg_path, \"JPEG\")\n",
    "        print(f\"✅ Converted: {png_file} → {new_filename}\")\n",
    "    except Exception as e:\n",
    "        print(f\"❌ Failed to convert {png_file}: {e}\")\n",
    "\n",
    "print(\"🎉 PNG-to-JPG conversion and renaming complete.\")"
   ]
  },
  {
   "cell_type": "code",
   "execution_count": 17,
   "id": "d46910e1-de48-4422-a8af-df865ee8a879",
   "metadata": {},
   "outputs": [
    {
     "name": "stdout",
     "output_type": "stream",
     "text": [
      "✅ Converted: IMG_9441.png → 01_shorts.jpg\n",
      "✅ Converted: IMG_9442.png → 02_shorts.jpg\n",
      "✅ Converted: IMG_9451.png → 03_shorts.jpg\n",
      "🎉 PNG-to-JPG conversion and renaming complete.\n"
     ]
    }
   ],
   "source": [
    "# Allow Pillow to load truncated (corrupted/incomplete) PNGs\n",
    "ImageFile.LOAD_TRUNCATED_IMAGES = True\n",
    "\n",
    "# Folder containing PNG files\n",
    "folder_path = \"Parsa/parsa's_wardrobe/shorts\"\n",
    "\n",
    "# Get sorted list of .png files\n",
    "png_files = sorted([f for f in os.listdir(folder_path) if f.lower().endswith(\".png\")])\n",
    "\n",
    "# Loop through and rename + convert\n",
    "for idx, png_file in enumerate(png_files, start=1):\n",
    "    new_filename = f\"{idx:02d}_shorts.jpg\"\n",
    "    png_path = os.path.join(folder_path, png_file)\n",
    "    jpg_path = os.path.join(folder_path, new_filename)\n",
    "\n",
    "    try:\n",
    "        image = Image.open(png_path).convert(\"RGB\")\n",
    "        image.save(jpg_path, \"JPEG\")\n",
    "        print(f\"✅ Converted: {png_file} → {new_filename}\")\n",
    "    except Exception as e:\n",
    "        print(f\"❌ Failed to convert {png_file}: {e}\")\n",
    "\n",
    "print(\"🎉 PNG-to-JPG conversion and renaming complete.\")"
   ]
  },
  {
   "cell_type": "code",
   "execution_count": 18,
   "id": "4ee7716a-797b-476f-90ad-8ea46d4ef7c3",
   "metadata": {},
   "outputs": [
    {
     "name": "stdout",
     "output_type": "stream",
     "text": [
      "✅ Converted: IMG_9443.png → 01_t-shirts.jpg\n",
      "✅ Converted: IMG_9445.png → 02_t-shirts.jpg\n",
      "✅ Converted: IMG_9446.png → 03_t-shirts.jpg\n",
      "✅ Converted: IMG_9450.png → 04_t-shirts.jpg\n",
      "✅ Converted: IMG_9477.png → 05_t-shirts.jpg\n",
      "✅ Converted: IMG_9478.png → 06_t-shirts.jpg\n",
      "✅ Converted: IMG_9480.png → 07_t-shirts.jpg\n",
      "✅ Converted: IMG_9484.png → 08_t-shirts.jpg\n",
      "✅ Converted: IMG_9491.png → 09_t-shirts.jpg\n",
      "🎉 PNG-to-JPG conversion and renaming complete.\n"
     ]
    }
   ],
   "source": [
    "# Allow Pillow to load truncated (corrupted/incomplete) PNGs\n",
    "ImageFile.LOAD_TRUNCATED_IMAGES = True\n",
    "\n",
    "# Folder containing PNG files\n",
    "folder_path = \"Parsa/parsa's_wardrobe/t-shirts\"\n",
    "\n",
    "# Get sorted list of .png files\n",
    "png_files = sorted([f for f in os.listdir(folder_path) if f.lower().endswith(\".png\")])\n",
    "\n",
    "# Loop through and rename + convert\n",
    "for idx, png_file in enumerate(png_files, start=1):\n",
    "    new_filename = f\"{idx:02d}_t-shirts.jpg\"\n",
    "    png_path = os.path.join(folder_path, png_file)\n",
    "    jpg_path = os.path.join(folder_path, new_filename)\n",
    "\n",
    "    try:\n",
    "        image = Image.open(png_path).convert(\"RGB\")\n",
    "        image.save(jpg_path, \"JPEG\")\n",
    "        print(f\"✅ Converted: {png_file} → {new_filename}\")\n",
    "    except Exception as e:\n",
    "        print(f\"❌ Failed to convert {png_file}: {e}\")\n",
    "\n",
    "print(\"🎉 PNG-to-JPG conversion and renaming complete.\")"
   ]
  },
  {
   "cell_type": "code",
   "execution_count": 19,
   "id": "d1174866-928a-4d54-90c4-b51ab7e94110",
   "metadata": {},
   "outputs": [
    {
     "name": "stdout",
     "output_type": "stream",
     "text": [
      "✅ Converted: IMG_9453.png → 01_shirts.jpg\n",
      "✅ Converted: IMG_9454.png → 02_shirts.jpg\n",
      "✅ Converted: IMG_9455.png → 03_shirts.jpg\n",
      "✅ Converted: IMG_9456.png → 04_shirts.jpg\n",
      "✅ Converted: IMG_9457.png → 05_shirts.jpg\n",
      "✅ Converted: IMG_9458.png → 06_shirts.jpg\n",
      "✅ Converted: IMG_9459.png → 07_shirts.jpg\n",
      "✅ Converted: IMG_9461.png → 08_shirts.jpg\n",
      "✅ Converted: IMG_9462.png → 09_shirts.jpg\n",
      "✅ Converted: IMG_9465.png → 10_shirts.jpg\n",
      "✅ Converted: IMG_9466.png → 11_shirts.jpg\n",
      "✅ Converted: IMG_9467.png → 12_shirts.jpg\n",
      "✅ Converted: IMG_9468.png → 13_shirts.jpg\n",
      "✅ Converted: IMG_9469.png → 14_shirts.jpg\n",
      "✅ Converted: IMG_9470.png → 15_shirts.jpg\n",
      "✅ Converted: IMG_9471.png → 16_shirts.jpg\n",
      "✅ Converted: IMG_9473.png → 17_shirts.jpg\n",
      "✅ Converted: IMG_9474.png → 18_shirts.jpg\n",
      "✅ Converted: IMG_9475.png → 19_shirts.jpg\n",
      "✅ Converted: IMG_9476.png → 20_shirts.jpg\n",
      "✅ Converted: IMG_9479.png → 21_shirts.jpg\n",
      "✅ Converted: IMG_9481.png → 22_shirts.jpg\n",
      "✅ Converted: IMG_9482.png → 23_shirts.jpg\n",
      "✅ Converted: IMG_9483.png → 24_shirts.jpg\n",
      "✅ Converted: IMG_9485.png → 25_shirts.jpg\n",
      "✅ Converted: IMG_9486.png → 26_shirts.jpg\n",
      "✅ Converted: IMG_9487.png → 27_shirts.jpg\n",
      "✅ Converted: IMG_9488.png → 28_shirts.jpg\n",
      "✅ Converted: IMG_9489.png → 29_shirts.jpg\n",
      "✅ Converted: IMG_9490.png → 30_shirts.jpg\n",
      "✅ Converted: IMG_9492.png → 31_shirts.jpg\n",
      "🎉 PNG-to-JPG conversion and renaming complete.\n"
     ]
    }
   ],
   "source": [
    "# Allow Pillow to load truncated (corrupted/incomplete) PNGs\n",
    "ImageFile.LOAD_TRUNCATED_IMAGES = True\n",
    "\n",
    "# Folder containing PNG files\n",
    "folder_path = \"Parsa/parsa's_wardrobe/shirts\"\n",
    "\n",
    "# Get sorted list of .png files\n",
    "png_files = sorted([f for f in os.listdir(folder_path) if f.lower().endswith(\".png\")])\n",
    "\n",
    "# Loop through and rename + convert\n",
    "for idx, png_file in enumerate(png_files, start=1):\n",
    "    new_filename = f\"{idx:02d}_shirts.jpg\"\n",
    "    png_path = os.path.join(folder_path, png_file)\n",
    "    jpg_path = os.path.join(folder_path, new_filename)\n",
    "\n",
    "    try:\n",
    "        image = Image.open(png_path).convert(\"RGB\")\n",
    "        image.save(jpg_path, \"JPEG\")\n",
    "        print(f\"✅ Converted: {png_file} → {new_filename}\")\n",
    "    except Exception as e:\n",
    "        print(f\"❌ Failed to convert {png_file}: {e}\")\n",
    "\n",
    "print(\"🎉 PNG-to-JPG conversion and renaming complete.\")"
   ]
  }
 ],
 "metadata": {
  "kernelspec": {
   "display_name": "conda_python3",
   "language": "python",
   "name": "conda_python3"
  },
  "language_info": {
   "codemirror_mode": {
    "name": "ipython",
    "version": 3
   },
   "file_extension": ".py",
   "mimetype": "text/x-python",
   "name": "python",
   "nbconvert_exporter": "python",
   "pygments_lexer": "ipython3",
   "version": "3.10.16"
  }
 },
 "nbformat": 4,
 "nbformat_minor": 5
}
